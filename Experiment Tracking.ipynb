{
 "cells": [
  {
   "cell_type": "markdown",
   "id": "6bf197ce-19bc-4c42-8bb0-b4ea967cd832",
   "metadata": {},
   "source": [
    "### Objective: \n",
    "This notebook provides an overview on how to use the framework for experiment tracking. "
   ]
  },
  {
   "cell_type": "markdown",
   "id": "b95b557b-b349-432e-88af-619e0a0dc646",
   "metadata": {},
   "source": [
    "#### Data scientist/ ML engineer journey on experimentation\n",
    "```\n",
    "Data Scientist\n",
    "     |\n",
    "     v\n",
    "Create Experiment (\"Model V1\")\n",
    "     |\n",
    "     v\n",
    "+------------------+        +------------------+        +----------------------+\n",
    "|   Run 1: Train   | -----> | Run 1: Evaluate  | -----> | Accuracy(metric): 92%|\n",
    "| LR=0.01, Epochs=10|        +------------------+        +---------------------+\n",
    "+------------------+\n",
    "\n",
    "     |\n",
    "     v\n",
    "\n",
    "+------------------+        +------------------+        +----------------------+\n",
    "|   Run 2: Train   | -----> | Run 2: Evaluate  | -----> | Accuracy(metric): 94%|\n",
    "| LR=0.005, Epochs=20|      +-------------------|       +----------------------+\n",
    "+------------------+\n",
    "\n",
    "     |\n",
    "     v\n",
    "\n",
    "More Runs (optional)\n",
    "     |\n",
    "     v\n",
    "Compare & Analyze Results\n",
    "```\n"
   ]
  },
  {
   "cell_type": "code",
   "execution_count": 1,
   "id": "25215506-dd01-4f07-a813-91536ef5d5a8",
   "metadata": {},
   "outputs": [],
   "source": [
    "## import pacakges\n",
    "from src import tree\n",
    "from sklearn.datasets import load_iris\n",
    "from sklearn.model_selection import train_test_split\n",
    "from sklearn.preprocessing import StandardScaler\n",
    "from sklearn.ensemble import RandomForestClassifier\n",
    "from sklearn.metrics import accuracy_score\n",
    "from sklearn.metrics import precision_score, recall_score"
   ]
  },
  {
   "cell_type": "markdown",
   "id": "672de0ae-2f4e-4013-b09d-799d483e9886",
   "metadata": {},
   "source": [
    "#### Create the project"
   ]
  },
  {
   "cell_type": "code",
   "execution_count": 2,
   "id": "2e27de44-a63d-41d0-bf01-23879cb8b1c5",
   "metadata": {},
   "outputs": [
    {
     "name": "stdout",
     "output_type": "stream",
     "text": [
      "Project IRIS CLASSIFICATION - (ID: 5f891f77-4950-4069-be50-0cfcdf56cefe) created successfully\n"
     ]
    }
   ],
   "source": [
    "tree.set_project(name = \"IRIS CLASSIFICATION\",\n",
    "                 created_by = \"member 1\")"
   ]
  },
  {
   "cell_type": "markdown",
   "id": "ea5414c0-7ebf-405f-865d-ba3ca700378c",
   "metadata": {},
   "source": [
    "#### Create Experiment"
   ]
  },
  {
   "cell_type": "code",
   "execution_count": 3,
   "id": "9174d668-4080-4ef0-b48e-d9808e63d1c3",
   "metadata": {},
   "outputs": [
    {
     "name": "stdout",
     "output_type": "stream",
     "text": [
      "Experiment RandomForestModel - (ID: 2b392d76-d017-4016-b53b-19ad17ddd8c9) created successfully\n"
     ]
    }
   ],
   "source": [
    "tree.set_experiment(name = \"RandomForestModel\",\n",
    "                 created_by = \"member 1\",\n",
    "                 description = \"\"\"The Iris dataset is a classic multivariate dataset introduced by Ronald Fisher, \n",
    "                 containing 150 samples of iris flowers with four features: sepal length, sepal width, petal length, and petal width. \n",
    "                 The problem involves classifying the flowers into one of three species—Setosa, Versicolor, or Virginica—based on these features.\"\"\")"
   ]
  },
  {
   "cell_type": "markdown",
   "id": "612ab26b-c8f8-449f-a300-2a2fe78a750f",
   "metadata": {},
   "source": [
    "#### Start Runs\n",
    "A run is an instance of the experiment with specific hyperparamters and other things"
   ]
  },
  {
   "cell_type": "code",
   "execution_count": 4,
   "id": "1ff46092-0115-41a3-b428-210815969016",
   "metadata": {},
   "outputs": [
    {
     "name": "stdout",
     "output_type": "stream",
     "text": [
      "Run run1 - (ID: 6cabe5ed-728f-4751-80f4-ec0a5c7c7a61) created successfully\n"
     ]
    }
   ],
   "source": [
    "tree.start_run(name=\"run1\", created_by=\"member 1\")"
   ]
  },
  {
   "cell_type": "markdown",
   "id": "b0eb29d7-d24f-4964-a070-45b408ca7119",
   "metadata": {},
   "source": [
    "#### Prepare dataset"
   ]
  },
  {
   "cell_type": "code",
   "execution_count": 5,
   "id": "fbb06f43-d738-446c-a42e-cdfee148d921",
   "metadata": {},
   "outputs": [],
   "source": [
    "# Load Iris dataset\n",
    "iris = load_iris()\n",
    "X = iris.data\n",
    "y = iris.target\n",
    "\n",
    "# Split into train/test\n",
    "X_train, X_test, y_train, y_test = train_test_split(X, y, test_size=0.4, random_state=42)"
   ]
  },
  {
   "cell_type": "markdown",
   "id": "b2c5757f-1b9e-4ec4-b981-dda5ba56aba2",
   "metadata": {},
   "source": [
    "#### Perform training with hyperparameters and log the experiment metadata"
   ]
  },
  {
   "cell_type": "code",
   "execution_count": 6,
   "id": "f5005832-86ec-4584-9b0c-05b74c301ead",
   "metadata": {},
   "outputs": [
    {
     "name": "stdout",
     "output_type": "stream",
     "text": [
      "'hyperparameter : n_estimators' logged (ID: 877b706a-dfb4-46a4-99c5-10ca22e04861)\n",
      "'hyperparameter : max_depth' logged (ID: 93a925bf-1b5a-4b7d-b747-3ea2a5fb9117)\n",
      "'hyperparameter : min_samples_split' logged (ID: 5e75520e-ff66-465b-97f8-db3e7cf5ccbb)\n",
      "'hyperparameter : min_samples_leaf' logged (ID: 684b9652-a75b-454e-9add-827709097a5a)\n",
      "'hyperparameter : max_features' logged (ID: 9315558b-0095-4b98-aacb-dad1413720d3)\n",
      "'hyperparameter : random_state' logged (ID: 417cc40c-2f06-4f83-820c-a53194a9dcfe)\n"
     ]
    }
   ],
   "source": [
    "rf_params = {\n",
    "    \"n_estimators\": 1,\n",
    "    \"max_depth\": 8,\n",
    "    \"min_samples_split\": 4,\n",
    "    \"min_samples_leaf\": 2,\n",
    "    \"max_features\": \"sqrt\",\n",
    "    \"random_state\": 42\n",
    "}\n",
    "\n",
    "tree.log_hyperparameters(value = rf_params)"
   ]
  },
  {
   "cell_type": "code",
   "execution_count": 7,
   "id": "e88ff2a3-90c7-43b1-9662-94b2155c3fe8",
   "metadata": {},
   "outputs": [
    {
     "data": {
      "text/html": [
       "<style>#sk-container-id-1 {\n",
       "  /* Definition of color scheme common for light and dark mode */\n",
       "  --sklearn-color-text: #000;\n",
       "  --sklearn-color-text-muted: #666;\n",
       "  --sklearn-color-line: gray;\n",
       "  /* Definition of color scheme for unfitted estimators */\n",
       "  --sklearn-color-unfitted-level-0: #fff5e6;\n",
       "  --sklearn-color-unfitted-level-1: #f6e4d2;\n",
       "  --sklearn-color-unfitted-level-2: #ffe0b3;\n",
       "  --sklearn-color-unfitted-level-3: chocolate;\n",
       "  /* Definition of color scheme for fitted estimators */\n",
       "  --sklearn-color-fitted-level-0: #f0f8ff;\n",
       "  --sklearn-color-fitted-level-1: #d4ebff;\n",
       "  --sklearn-color-fitted-level-2: #b3dbfd;\n",
       "  --sklearn-color-fitted-level-3: cornflowerblue;\n",
       "\n",
       "  /* Specific color for light theme */\n",
       "  --sklearn-color-text-on-default-background: var(--sg-text-color, var(--theme-code-foreground, var(--jp-content-font-color1, black)));\n",
       "  --sklearn-color-background: var(--sg-background-color, var(--theme-background, var(--jp-layout-color0, white)));\n",
       "  --sklearn-color-border-box: var(--sg-text-color, var(--theme-code-foreground, var(--jp-content-font-color1, black)));\n",
       "  --sklearn-color-icon: #696969;\n",
       "\n",
       "  @media (prefers-color-scheme: dark) {\n",
       "    /* Redefinition of color scheme for dark theme */\n",
       "    --sklearn-color-text-on-default-background: var(--sg-text-color, var(--theme-code-foreground, var(--jp-content-font-color1, white)));\n",
       "    --sklearn-color-background: var(--sg-background-color, var(--theme-background, var(--jp-layout-color0, #111)));\n",
       "    --sklearn-color-border-box: var(--sg-text-color, var(--theme-code-foreground, var(--jp-content-font-color1, white)));\n",
       "    --sklearn-color-icon: #878787;\n",
       "  }\n",
       "}\n",
       "\n",
       "#sk-container-id-1 {\n",
       "  color: var(--sklearn-color-text);\n",
       "}\n",
       "\n",
       "#sk-container-id-1 pre {\n",
       "  padding: 0;\n",
       "}\n",
       "\n",
       "#sk-container-id-1 input.sk-hidden--visually {\n",
       "  border: 0;\n",
       "  clip: rect(1px 1px 1px 1px);\n",
       "  clip: rect(1px, 1px, 1px, 1px);\n",
       "  height: 1px;\n",
       "  margin: -1px;\n",
       "  overflow: hidden;\n",
       "  padding: 0;\n",
       "  position: absolute;\n",
       "  width: 1px;\n",
       "}\n",
       "\n",
       "#sk-container-id-1 div.sk-dashed-wrapped {\n",
       "  border: 1px dashed var(--sklearn-color-line);\n",
       "  margin: 0 0.4em 0.5em 0.4em;\n",
       "  box-sizing: border-box;\n",
       "  padding-bottom: 0.4em;\n",
       "  background-color: var(--sklearn-color-background);\n",
       "}\n",
       "\n",
       "#sk-container-id-1 div.sk-container {\n",
       "  /* jupyter's `normalize.less` sets `[hidden] { display: none; }`\n",
       "     but bootstrap.min.css set `[hidden] { display: none !important; }`\n",
       "     so we also need the `!important` here to be able to override the\n",
       "     default hidden behavior on the sphinx rendered scikit-learn.org.\n",
       "     See: https://github.com/scikit-learn/scikit-learn/issues/21755 */\n",
       "  display: inline-block !important;\n",
       "  position: relative;\n",
       "}\n",
       "\n",
       "#sk-container-id-1 div.sk-text-repr-fallback {\n",
       "  display: none;\n",
       "}\n",
       "\n",
       "div.sk-parallel-item,\n",
       "div.sk-serial,\n",
       "div.sk-item {\n",
       "  /* draw centered vertical line to link estimators */\n",
       "  background-image: linear-gradient(var(--sklearn-color-text-on-default-background), var(--sklearn-color-text-on-default-background));\n",
       "  background-size: 2px 100%;\n",
       "  background-repeat: no-repeat;\n",
       "  background-position: center center;\n",
       "}\n",
       "\n",
       "/* Parallel-specific style estimator block */\n",
       "\n",
       "#sk-container-id-1 div.sk-parallel-item::after {\n",
       "  content: \"\";\n",
       "  width: 100%;\n",
       "  border-bottom: 2px solid var(--sklearn-color-text-on-default-background);\n",
       "  flex-grow: 1;\n",
       "}\n",
       "\n",
       "#sk-container-id-1 div.sk-parallel {\n",
       "  display: flex;\n",
       "  align-items: stretch;\n",
       "  justify-content: center;\n",
       "  background-color: var(--sklearn-color-background);\n",
       "  position: relative;\n",
       "}\n",
       "\n",
       "#sk-container-id-1 div.sk-parallel-item {\n",
       "  display: flex;\n",
       "  flex-direction: column;\n",
       "}\n",
       "\n",
       "#sk-container-id-1 div.sk-parallel-item:first-child::after {\n",
       "  align-self: flex-end;\n",
       "  width: 50%;\n",
       "}\n",
       "\n",
       "#sk-container-id-1 div.sk-parallel-item:last-child::after {\n",
       "  align-self: flex-start;\n",
       "  width: 50%;\n",
       "}\n",
       "\n",
       "#sk-container-id-1 div.sk-parallel-item:only-child::after {\n",
       "  width: 0;\n",
       "}\n",
       "\n",
       "/* Serial-specific style estimator block */\n",
       "\n",
       "#sk-container-id-1 div.sk-serial {\n",
       "  display: flex;\n",
       "  flex-direction: column;\n",
       "  align-items: center;\n",
       "  background-color: var(--sklearn-color-background);\n",
       "  padding-right: 1em;\n",
       "  padding-left: 1em;\n",
       "}\n",
       "\n",
       "\n",
       "/* Toggleable style: style used for estimator/Pipeline/ColumnTransformer box that is\n",
       "clickable and can be expanded/collapsed.\n",
       "- Pipeline and ColumnTransformer use this feature and define the default style\n",
       "- Estimators will overwrite some part of the style using the `sk-estimator` class\n",
       "*/\n",
       "\n",
       "/* Pipeline and ColumnTransformer style (default) */\n",
       "\n",
       "#sk-container-id-1 div.sk-toggleable {\n",
       "  /* Default theme specific background. It is overwritten whether we have a\n",
       "  specific estimator or a Pipeline/ColumnTransformer */\n",
       "  background-color: var(--sklearn-color-background);\n",
       "}\n",
       "\n",
       "/* Toggleable label */\n",
       "#sk-container-id-1 label.sk-toggleable__label {\n",
       "  cursor: pointer;\n",
       "  display: flex;\n",
       "  width: 100%;\n",
       "  margin-bottom: 0;\n",
       "  padding: 0.5em;\n",
       "  box-sizing: border-box;\n",
       "  text-align: center;\n",
       "  align-items: start;\n",
       "  justify-content: space-between;\n",
       "  gap: 0.5em;\n",
       "}\n",
       "\n",
       "#sk-container-id-1 label.sk-toggleable__label .caption {\n",
       "  font-size: 0.6rem;\n",
       "  font-weight: lighter;\n",
       "  color: var(--sklearn-color-text-muted);\n",
       "}\n",
       "\n",
       "#sk-container-id-1 label.sk-toggleable__label-arrow:before {\n",
       "  /* Arrow on the left of the label */\n",
       "  content: \"▸\";\n",
       "  float: left;\n",
       "  margin-right: 0.25em;\n",
       "  color: var(--sklearn-color-icon);\n",
       "}\n",
       "\n",
       "#sk-container-id-1 label.sk-toggleable__label-arrow:hover:before {\n",
       "  color: var(--sklearn-color-text);\n",
       "}\n",
       "\n",
       "/* Toggleable content - dropdown */\n",
       "\n",
       "#sk-container-id-1 div.sk-toggleable__content {\n",
       "  max-height: 0;\n",
       "  max-width: 0;\n",
       "  overflow: hidden;\n",
       "  text-align: left;\n",
       "  /* unfitted */\n",
       "  background-color: var(--sklearn-color-unfitted-level-0);\n",
       "}\n",
       "\n",
       "#sk-container-id-1 div.sk-toggleable__content.fitted {\n",
       "  /* fitted */\n",
       "  background-color: var(--sklearn-color-fitted-level-0);\n",
       "}\n",
       "\n",
       "#sk-container-id-1 div.sk-toggleable__content pre {\n",
       "  margin: 0.2em;\n",
       "  border-radius: 0.25em;\n",
       "  color: var(--sklearn-color-text);\n",
       "  /* unfitted */\n",
       "  background-color: var(--sklearn-color-unfitted-level-0);\n",
       "}\n",
       "\n",
       "#sk-container-id-1 div.sk-toggleable__content.fitted pre {\n",
       "  /* unfitted */\n",
       "  background-color: var(--sklearn-color-fitted-level-0);\n",
       "}\n",
       "\n",
       "#sk-container-id-1 input.sk-toggleable__control:checked~div.sk-toggleable__content {\n",
       "  /* Expand drop-down */\n",
       "  max-height: 200px;\n",
       "  max-width: 100%;\n",
       "  overflow: auto;\n",
       "}\n",
       "\n",
       "#sk-container-id-1 input.sk-toggleable__control:checked~label.sk-toggleable__label-arrow:before {\n",
       "  content: \"▾\";\n",
       "}\n",
       "\n",
       "/* Pipeline/ColumnTransformer-specific style */\n",
       "\n",
       "#sk-container-id-1 div.sk-label input.sk-toggleable__control:checked~label.sk-toggleable__label {\n",
       "  color: var(--sklearn-color-text);\n",
       "  background-color: var(--sklearn-color-unfitted-level-2);\n",
       "}\n",
       "\n",
       "#sk-container-id-1 div.sk-label.fitted input.sk-toggleable__control:checked~label.sk-toggleable__label {\n",
       "  background-color: var(--sklearn-color-fitted-level-2);\n",
       "}\n",
       "\n",
       "/* Estimator-specific style */\n",
       "\n",
       "/* Colorize estimator box */\n",
       "#sk-container-id-1 div.sk-estimator input.sk-toggleable__control:checked~label.sk-toggleable__label {\n",
       "  /* unfitted */\n",
       "  background-color: var(--sklearn-color-unfitted-level-2);\n",
       "}\n",
       "\n",
       "#sk-container-id-1 div.sk-estimator.fitted input.sk-toggleable__control:checked~label.sk-toggleable__label {\n",
       "  /* fitted */\n",
       "  background-color: var(--sklearn-color-fitted-level-2);\n",
       "}\n",
       "\n",
       "#sk-container-id-1 div.sk-label label.sk-toggleable__label,\n",
       "#sk-container-id-1 div.sk-label label {\n",
       "  /* The background is the default theme color */\n",
       "  color: var(--sklearn-color-text-on-default-background);\n",
       "}\n",
       "\n",
       "/* On hover, darken the color of the background */\n",
       "#sk-container-id-1 div.sk-label:hover label.sk-toggleable__label {\n",
       "  color: var(--sklearn-color-text);\n",
       "  background-color: var(--sklearn-color-unfitted-level-2);\n",
       "}\n",
       "\n",
       "/* Label box, darken color on hover, fitted */\n",
       "#sk-container-id-1 div.sk-label.fitted:hover label.sk-toggleable__label.fitted {\n",
       "  color: var(--sklearn-color-text);\n",
       "  background-color: var(--sklearn-color-fitted-level-2);\n",
       "}\n",
       "\n",
       "/* Estimator label */\n",
       "\n",
       "#sk-container-id-1 div.sk-label label {\n",
       "  font-family: monospace;\n",
       "  font-weight: bold;\n",
       "  display: inline-block;\n",
       "  line-height: 1.2em;\n",
       "}\n",
       "\n",
       "#sk-container-id-1 div.sk-label-container {\n",
       "  text-align: center;\n",
       "}\n",
       "\n",
       "/* Estimator-specific */\n",
       "#sk-container-id-1 div.sk-estimator {\n",
       "  font-family: monospace;\n",
       "  border: 1px dotted var(--sklearn-color-border-box);\n",
       "  border-radius: 0.25em;\n",
       "  box-sizing: border-box;\n",
       "  margin-bottom: 0.5em;\n",
       "  /* unfitted */\n",
       "  background-color: var(--sklearn-color-unfitted-level-0);\n",
       "}\n",
       "\n",
       "#sk-container-id-1 div.sk-estimator.fitted {\n",
       "  /* fitted */\n",
       "  background-color: var(--sklearn-color-fitted-level-0);\n",
       "}\n",
       "\n",
       "/* on hover */\n",
       "#sk-container-id-1 div.sk-estimator:hover {\n",
       "  /* unfitted */\n",
       "  background-color: var(--sklearn-color-unfitted-level-2);\n",
       "}\n",
       "\n",
       "#sk-container-id-1 div.sk-estimator.fitted:hover {\n",
       "  /* fitted */\n",
       "  background-color: var(--sklearn-color-fitted-level-2);\n",
       "}\n",
       "\n",
       "/* Specification for estimator info (e.g. \"i\" and \"?\") */\n",
       "\n",
       "/* Common style for \"i\" and \"?\" */\n",
       "\n",
       ".sk-estimator-doc-link,\n",
       "a:link.sk-estimator-doc-link,\n",
       "a:visited.sk-estimator-doc-link {\n",
       "  float: right;\n",
       "  font-size: smaller;\n",
       "  line-height: 1em;\n",
       "  font-family: monospace;\n",
       "  background-color: var(--sklearn-color-background);\n",
       "  border-radius: 1em;\n",
       "  height: 1em;\n",
       "  width: 1em;\n",
       "  text-decoration: none !important;\n",
       "  margin-left: 0.5em;\n",
       "  text-align: center;\n",
       "  /* unfitted */\n",
       "  border: var(--sklearn-color-unfitted-level-1) 1pt solid;\n",
       "  color: var(--sklearn-color-unfitted-level-1);\n",
       "}\n",
       "\n",
       ".sk-estimator-doc-link.fitted,\n",
       "a:link.sk-estimator-doc-link.fitted,\n",
       "a:visited.sk-estimator-doc-link.fitted {\n",
       "  /* fitted */\n",
       "  border: var(--sklearn-color-fitted-level-1) 1pt solid;\n",
       "  color: var(--sklearn-color-fitted-level-1);\n",
       "}\n",
       "\n",
       "/* On hover */\n",
       "div.sk-estimator:hover .sk-estimator-doc-link:hover,\n",
       ".sk-estimator-doc-link:hover,\n",
       "div.sk-label-container:hover .sk-estimator-doc-link:hover,\n",
       ".sk-estimator-doc-link:hover {\n",
       "  /* unfitted */\n",
       "  background-color: var(--sklearn-color-unfitted-level-3);\n",
       "  color: var(--sklearn-color-background);\n",
       "  text-decoration: none;\n",
       "}\n",
       "\n",
       "div.sk-estimator.fitted:hover .sk-estimator-doc-link.fitted:hover,\n",
       ".sk-estimator-doc-link.fitted:hover,\n",
       "div.sk-label-container:hover .sk-estimator-doc-link.fitted:hover,\n",
       ".sk-estimator-doc-link.fitted:hover {\n",
       "  /* fitted */\n",
       "  background-color: var(--sklearn-color-fitted-level-3);\n",
       "  color: var(--sklearn-color-background);\n",
       "  text-decoration: none;\n",
       "}\n",
       "\n",
       "/* Span, style for the box shown on hovering the info icon */\n",
       ".sk-estimator-doc-link span {\n",
       "  display: none;\n",
       "  z-index: 9999;\n",
       "  position: relative;\n",
       "  font-weight: normal;\n",
       "  right: .2ex;\n",
       "  padding: .5ex;\n",
       "  margin: .5ex;\n",
       "  width: min-content;\n",
       "  min-width: 20ex;\n",
       "  max-width: 50ex;\n",
       "  color: var(--sklearn-color-text);\n",
       "  box-shadow: 2pt 2pt 4pt #999;\n",
       "  /* unfitted */\n",
       "  background: var(--sklearn-color-unfitted-level-0);\n",
       "  border: .5pt solid var(--sklearn-color-unfitted-level-3);\n",
       "}\n",
       "\n",
       ".sk-estimator-doc-link.fitted span {\n",
       "  /* fitted */\n",
       "  background: var(--sklearn-color-fitted-level-0);\n",
       "  border: var(--sklearn-color-fitted-level-3);\n",
       "}\n",
       "\n",
       ".sk-estimator-doc-link:hover span {\n",
       "  display: block;\n",
       "}\n",
       "\n",
       "/* \"?\"-specific style due to the `<a>` HTML tag */\n",
       "\n",
       "#sk-container-id-1 a.estimator_doc_link {\n",
       "  float: right;\n",
       "  font-size: 1rem;\n",
       "  line-height: 1em;\n",
       "  font-family: monospace;\n",
       "  background-color: var(--sklearn-color-background);\n",
       "  border-radius: 1rem;\n",
       "  height: 1rem;\n",
       "  width: 1rem;\n",
       "  text-decoration: none;\n",
       "  /* unfitted */\n",
       "  color: var(--sklearn-color-unfitted-level-1);\n",
       "  border: var(--sklearn-color-unfitted-level-1) 1pt solid;\n",
       "}\n",
       "\n",
       "#sk-container-id-1 a.estimator_doc_link.fitted {\n",
       "  /* fitted */\n",
       "  border: var(--sklearn-color-fitted-level-1) 1pt solid;\n",
       "  color: var(--sklearn-color-fitted-level-1);\n",
       "}\n",
       "\n",
       "/* On hover */\n",
       "#sk-container-id-1 a.estimator_doc_link:hover {\n",
       "  /* unfitted */\n",
       "  background-color: var(--sklearn-color-unfitted-level-3);\n",
       "  color: var(--sklearn-color-background);\n",
       "  text-decoration: none;\n",
       "}\n",
       "\n",
       "#sk-container-id-1 a.estimator_doc_link.fitted:hover {\n",
       "  /* fitted */\n",
       "  background-color: var(--sklearn-color-fitted-level-3);\n",
       "}\n",
       "</style><div id=\"sk-container-id-1\" class=\"sk-top-container\"><div class=\"sk-text-repr-fallback\"><pre>RandomForestClassifier(max_depth=8, min_samples_leaf=2, min_samples_split=4,\n",
       "                       n_estimators=1, random_state=42)</pre><b>In a Jupyter environment, please rerun this cell to show the HTML representation or trust the notebook. <br />On GitHub, the HTML representation is unable to render, please try loading this page with nbviewer.org.</b></div><div class=\"sk-container\" hidden><div class=\"sk-item\"><div class=\"sk-estimator fitted sk-toggleable\"><input class=\"sk-toggleable__control sk-hidden--visually\" id=\"sk-estimator-id-1\" type=\"checkbox\" checked><label for=\"sk-estimator-id-1\" class=\"sk-toggleable__label fitted sk-toggleable__label-arrow\"><div><div>RandomForestClassifier</div></div><div><a class=\"sk-estimator-doc-link fitted\" rel=\"noreferrer\" target=\"_blank\" href=\"https://scikit-learn.org/1.6/modules/generated/sklearn.ensemble.RandomForestClassifier.html\">?<span>Documentation for RandomForestClassifier</span></a><span class=\"sk-estimator-doc-link fitted\">i<span>Fitted</span></span></div></label><div class=\"sk-toggleable__content fitted\"><pre>RandomForestClassifier(max_depth=8, min_samples_leaf=2, min_samples_split=4,\n",
       "                       n_estimators=1, random_state=42)</pre></div> </div></div></div></div>"
      ],
      "text/plain": [
       "RandomForestClassifier(max_depth=8, min_samples_leaf=2, min_samples_split=4,\n",
       "                       n_estimators=1, random_state=42)"
      ]
     },
     "execution_count": 7,
     "metadata": {},
     "output_type": "execute_result"
    }
   ],
   "source": [
    "# Create and train the RandomForest model\n",
    "model = RandomForestClassifier(**rf_params)\n",
    "model.fit(X_train, y_train)"
   ]
  },
  {
   "cell_type": "code",
   "execution_count": 8,
   "id": "4187242d-acd5-4627-a213-eb6790b6678a",
   "metadata": {},
   "outputs": [],
   "source": [
    "# Predict and evaluate\n",
    "y_pred = model.predict(X_test)\n",
    "metrics = {\"accuracy\": accuracy_score(y_test, y_pred),\n",
    "           \"precision\" : precision_score(y_test, y_pred, average='macro'),\n",
    "           \"recall\": recall_score(y_test, y_pred, average='macro')}"
   ]
  },
  {
   "cell_type": "code",
   "execution_count": 9,
   "id": "63eb622c-3b8c-472a-89b6-ca604eee459e",
   "metadata": {},
   "outputs": [
    {
     "name": "stdout",
     "output_type": "stream",
     "text": [
      "'metric : accuracy' logged (ID: f818de21-f922-4ef9-a2ff-167d7bdd109e)\n",
      "'metric : precision' logged (ID: 977e142d-3866-4859-8769-ecb17400eae2)\n",
      "'metric : recall' logged (ID: 9e5203f8-ca71-4559-a680-3e13e269715f)\n"
     ]
    }
   ],
   "source": [
    "tree.log_metrics(value = metrics)"
   ]
  },
  {
   "cell_type": "code",
   "execution_count": 10,
   "id": "b7cc36f3-3b8b-4ead-a4f2-6e02e284dfb6",
   "metadata": {},
   "outputs": [
    {
     "name": "stdout",
     "output_type": "stream",
     "text": [
      "'artifact : Dataset' logged (ID: 6489da23-9856-4608-9117-303892f397d5)\n"
     ]
    }
   ],
   "source": [
    "tree.log_artifacts(name = \"Dataset\", \n",
    "                   value = \"Iris flower data set\", \n",
    "                   artifact_type=\"data\")"
   ]
  },
  {
   "cell_type": "code",
   "execution_count": 11,
   "id": "c9cbb50a-8097-412b-a53a-b3e617ee139e",
   "metadata": {},
   "outputs": [],
   "source": [
    "tree.stop_run()"
   ]
  },
  {
   "cell_type": "code",
   "execution_count": 12,
   "id": "424aaf96-5803-4805-bde1-85d5b759eb74",
   "metadata": {},
   "outputs": [
    {
     "data": {
      "text/plain": [
       "{'accuracy': 0.95,\n",
       " 'precision': 0.9463937621832358,\n",
       " 'recall': 0.9463937621832358}"
      ]
     },
     "execution_count": 12,
     "metadata": {},
     "output_type": "execute_result"
    }
   ],
   "source": [
    "metrics"
   ]
  },
  {
   "cell_type": "markdown",
   "id": "1e54ee1d-4b12-4db0-aa14-227b500c55be",
   "metadata": {},
   "source": [
    "#### Train with different hyperparameters"
   ]
  },
  {
   "cell_type": "code",
   "execution_count": 13,
   "id": "c222fa3e-850e-41f3-989f-3955b14132c2",
   "metadata": {},
   "outputs": [
    {
     "name": "stdout",
     "output_type": "stream",
     "text": [
      "Run run3 - (ID: a7e5fff4-fa8d-4fb7-a274-da8929135a14) created successfully\n"
     ]
    }
   ],
   "source": [
    "tree.start_run(name=\"run3\", created_by=\"member 1\") #create a new run"
   ]
  },
  {
   "cell_type": "code",
   "execution_count": 14,
   "id": "4218ed85-221d-42d3-8aa9-1ddf22f46de2",
   "metadata": {},
   "outputs": [
    {
     "name": "stdout",
     "output_type": "stream",
     "text": [
      "'hyperparameter : n_estimators' logged (ID: 1bd68214-8ace-4a36-8cbf-02974ef5dba0)\n",
      "'hyperparameter : max_depth' logged (ID: 6d6d4374-15f4-4db6-8101-8c4d4fe78a32)\n",
      "'hyperparameter : min_samples_split' logged (ID: d4059c77-e1ef-4f92-8cac-40ef67497847)\n",
      "'hyperparameter : min_samples_leaf' logged (ID: eb87590d-8d54-4ce7-b5fc-25cf669ba30e)\n",
      "'hyperparameter : max_features' logged (ID: 7151d4cd-9a94-450c-b867-500b033cf988)\n",
      "'hyperparameter : random_state' logged (ID: 4e0b7d41-1775-4471-9808-b9d99b2ba6c5)\n"
     ]
    }
   ],
   "source": [
    "rf_params = {\n",
    "    \"n_estimators\": 3,\n",
    "    \"max_depth\": 3,\n",
    "    \"min_samples_split\": 5,\n",
    "    \"min_samples_leaf\": 3,\n",
    "    \"max_features\": \"log2\",\n",
    "    \"random_state\": 42\n",
    "}\n",
    "\n",
    "tree.log_hyperparameters(value = rf_params)"
   ]
  },
  {
   "cell_type": "code",
   "execution_count": 15,
   "id": "67f1965c-4df7-4db5-8bbb-398cdafb36ec",
   "metadata": {},
   "outputs": [
    {
     "name": "stdout",
     "output_type": "stream",
     "text": [
      "'metric : accuracy' logged (ID: 5581147e-a56b-449a-9ffd-588a45fbe521)\n",
      "'metric : precision' logged (ID: a863427f-c7c7-4d52-8637-621a92c65327)\n",
      "'metric : recall' logged (ID: d385cfd3-4417-4c8d-8d1f-05af95e6c12d)\n",
      "'artifact : Dataset' logged (ID: 4e8ff202-bcd5-4dc2-bbbe-c507d8b8c71f)\n"
     ]
    }
   ],
   "source": [
    "# Create and train the RandomForest model\n",
    "model = RandomForestClassifier(**rf_params)\n",
    "model.fit(X_train, y_train)\n",
    "# Predict and evaluate\n",
    "y_pred = model.predict(X_test)\n",
    "metrics = {\"accuracy\": accuracy_score(y_test, y_pred),\n",
    "           \"precision\" : precision_score(y_test, y_pred, average='macro'),\n",
    "           \"recall\": recall_score(y_test, y_pred, average='macro')}\n",
    "tree.log_metrics(value = metrics)\n",
    "tree.log_artifacts(name = \"Dataset\", \n",
    "                   value = \"Iris flower data set\", \n",
    "                   artifact_type=\"data\")\n",
    "tree.stop_run()"
   ]
  },
  {
   "cell_type": "markdown",
   "id": "3583a9f6-3ea1-40da-82ce-fb38c93947b0",
   "metadata": {},
   "source": [
    "#### Explore Experiment and compare Runs "
   ]
  },
  {
   "cell_type": "code",
   "execution_count": 16,
   "id": "5bdb61d0-f69d-4e6c-b3a6-410c5a735090",
   "metadata": {},
   "outputs": [
    {
     "data": {
      "application/vnd.jupyter.widget-view+json": {
       "model_id": "b074fe91f0c747dabf2d418fee721707",
       "version_major": 2,
       "version_minor": 0
      },
      "text/plain": [
       "HTML(value=\"<h1 style='color: #2c3e50; margin-bottom: 20px;'>Experiment Dashboard</h1>\")"
      ]
     },
     "metadata": {},
     "output_type": "display_data"
    },
    {
     "data": {
      "application/vnd.jupyter.widget-view+json": {
       "model_id": "5aa346a3c488429481f44eb2782fa2b6",
       "version_major": 2,
       "version_minor": 0
      },
      "text/plain": [
       "Dropdown(description='Experiment:', layout=Layout(width='350px'), options=('RandomForestModel',), style=Descri…"
      ]
     },
     "metadata": {},
     "output_type": "display_data"
    },
    {
     "data": {
      "application/vnd.jupyter.widget-view+json": {
       "model_id": "be6d883b9a094ad087075d8dc386133c",
       "version_major": 2,
       "version_minor": 0
      },
      "text/plain": [
       "HTML(value=\"\\n        <div style='border: 1px solid #e0e0e0; border-radius: 8px; padding: 15px; margin-bottom:…"
      ]
     },
     "metadata": {},
     "output_type": "display_data"
    },
    {
     "data": {
      "application/vnd.jupyter.widget-view+json": {
       "model_id": "815d85b8b4b24dc5a5607eb94688b727",
       "version_major": 2,
       "version_minor": 0
      },
      "text/plain": [
       "HTML(value=\"<div style='font-size: 1.3em; font-weight: bold; color: #3a3a3a; margin-bottom: 12px;'>Metrics Sum…"
      ]
     },
     "metadata": {},
     "output_type": "display_data"
    },
    {
     "data": {
      "application/vnd.jupyter.widget-view+json": {
       "model_id": "ba33ccb035ca4be8ba27e33b0e69a7b5",
       "version_major": 2,
       "version_minor": 0
      },
      "text/plain": [
       "HBox(children=(Text(value='', description='Filter runs:', layout=Layout(margin='0 20px 0 0', width='350px'), p…"
      ]
     },
     "metadata": {},
     "output_type": "display_data"
    },
    {
     "data": {
      "application/vnd.jupyter.widget-view+json": {
       "model_id": "2750eccb8c9743dd9010d7b2ba721b91",
       "version_major": 2,
       "version_minor": 0
      },
      "text/plain": [
       "VBox(children=(HBox(children=(HTML(value=\"<div style='font-size: 1.3em; font-weight: bold; color: #3a3a3a; mar…"
      ]
     },
     "metadata": {},
     "output_type": "display_data"
    },
    {
     "data": {
      "application/vnd.jupyter.widget-view+json": {
       "model_id": "62f22b4c26044f5f971dac2bc92dcfb9",
       "version_major": 2,
       "version_minor": 0
      },
      "text/plain": [
       "HTML(value=\"<div style='padding: 8px; color: #555;'>Displaying 2 runs for experiment 'RandomForestModel'</div>…"
      ]
     },
     "metadata": {},
     "output_type": "display_data"
    }
   ],
   "source": [
    "tree.view_experiments()"
   ]
  },
  {
   "cell_type": "markdown",
   "id": "56d476ab-74fd-402d-a114-f89a8b7b0781",
   "metadata": {},
   "source": [
    "#### Look at individual runs"
   ]
  },
  {
   "cell_type": "code",
   "execution_count": 17,
   "id": "353476b7-58a7-454e-abc6-9357bc8756ad",
   "metadata": {},
   "outputs": [
    {
     "data": {
      "application/vnd.jupyter.widget-view+json": {
       "model_id": "c3eacdc458a449c897033720c0c8f1f8",
       "version_major": 2,
       "version_minor": 0
      },
      "text/plain": [
       "HTML(value='\\n        <style>\\n            .run-view-container { max-width: 1000px; margin: 0 auto; font-famil…"
      ]
     },
     "metadata": {},
     "output_type": "display_data"
    },
    {
     "data": {
      "application/vnd.jupyter.widget-view+json": {
       "model_id": "769cfd62781348af83eaa2f3937ef682",
       "version_major": 2,
       "version_minor": 0
      },
      "text/plain": [
       "VBox(children=(HTML(value='<div class=\"run-view-header\"><div class=\"run-view-title\">ML Run Explorer</div></div…"
      ]
     },
     "metadata": {},
     "output_type": "display_data"
    }
   ],
   "source": [
    "tree.view_runs(experiment_name=\"RandomForestModel\")"
   ]
  },
  {
   "cell_type": "markdown",
   "id": "175b39d2-9e22-4509-ab36-f0be63bd9ff7",
   "metadata": {},
   "source": [
    "#### Export tree and track this file on git - experiment metadata can be tracked on git like any other code/file"
   ]
  },
  {
   "cell_type": "code",
   "execution_count": 18,
   "id": "59dd344a-820e-4fe1-9426-92c796adb483",
   "metadata": {},
   "outputs": [],
   "source": [
    "tree.export_tree(filename=\"randomforestmodel.json\")"
   ]
  },
  {
   "cell_type": "markdown",
   "id": "f59e43a4-a578-4e0c-b239-252bd1deee44",
   "metadata": {},
   "source": [
    "#### Load the file next time when resuming the work"
   ]
  },
  {
   "cell_type": "code",
   "execution_count": 19,
   "id": "c87a45f9-a016-441a-a599-8bdfb50bc52c",
   "metadata": {},
   "outputs": [
    {
     "name": "stdout",
     "output_type": "stream",
     "text": [
      "Imported the experiment tree successfully\n"
     ]
    }
   ],
   "source": [
    "tree.load_tree(filename=\"randomforestmodel.json\")"
   ]
  },
  {
   "cell_type": "markdown",
   "id": "fe561cb4-6a56-4fdf-b8b0-fd4e4afcb99a",
   "metadata": {},
   "source": [
    "#### To resume work we need to set project and experiment"
   ]
  },
  {
   "cell_type": "code",
   "execution_count": 20,
   "id": "650f77bf-8e95-4a33-80a6-aaea9afae86a",
   "metadata": {},
   "outputs": [
    {
     "data": {
      "text/html": [
       "<div>\n",
       "<style scoped>\n",
       "    .dataframe tbody tr th:only-of-type {\n",
       "        vertical-align: middle;\n",
       "    }\n",
       "\n",
       "    .dataframe tbody tr th {\n",
       "        vertical-align: top;\n",
       "    }\n",
       "\n",
       "    .dataframe thead th {\n",
       "        text-align: right;\n",
       "    }\n",
       "</style>\n",
       "<table border=\"1\" class=\"dataframe\">\n",
       "  <thead>\n",
       "    <tr style=\"text-align: right;\">\n",
       "      <th></th>\n",
       "      <th>project_name</th>\n",
       "      <th>project_id</th>\n",
       "      <th>experiment_name</th>\n",
       "      <th>experiment_id</th>\n",
       "      <th>run_name</th>\n",
       "      <th>run_id</th>\n",
       "    </tr>\n",
       "  </thead>\n",
       "  <tbody>\n",
       "    <tr>\n",
       "      <th>0</th>\n",
       "      <td>IRIS CLASSIFICATION</td>\n",
       "      <td>5f891f77-4950-4069-be50-0cfcdf56cefe</td>\n",
       "      <td>RandomForestModel</td>\n",
       "      <td>2b392d76-d017-4016-b53b-19ad17ddd8c9</td>\n",
       "      <td>run1</td>\n",
       "      <td>6cabe5ed-728f-4751-80f4-ec0a5c7c7a61</td>\n",
       "    </tr>\n",
       "    <tr>\n",
       "      <th>1</th>\n",
       "      <td>IRIS CLASSIFICATION</td>\n",
       "      <td>5f891f77-4950-4069-be50-0cfcdf56cefe</td>\n",
       "      <td>RandomForestModel</td>\n",
       "      <td>2b392d76-d017-4016-b53b-19ad17ddd8c9</td>\n",
       "      <td>run3</td>\n",
       "      <td>a7e5fff4-fa8d-4fb7-a274-da8929135a14</td>\n",
       "    </tr>\n",
       "  </tbody>\n",
       "</table>\n",
       "</div>"
      ],
      "text/plain": [
       "          project_name                            project_id  \\\n",
       "0  IRIS CLASSIFICATION  5f891f77-4950-4069-be50-0cfcdf56cefe   \n",
       "1  IRIS CLASSIFICATION  5f891f77-4950-4069-be50-0cfcdf56cefe   \n",
       "\n",
       "     experiment_name                         experiment_id run_name  \\\n",
       "0  RandomForestModel  2b392d76-d017-4016-b53b-19ad17ddd8c9     run1   \n",
       "1  RandomForestModel  2b392d76-d017-4016-b53b-19ad17ddd8c9     run3   \n",
       "\n",
       "                                 run_id  \n",
       "0  6cabe5ed-728f-4751-80f4-ec0a5c7c7a61  \n",
       "1  a7e5fff4-fa8d-4fb7-a274-da8929135a14  "
      ]
     },
     "execution_count": 20,
     "metadata": {},
     "output_type": "execute_result"
    }
   ],
   "source": [
    "tree.view_tree()"
   ]
  },
  {
   "cell_type": "markdown",
   "id": "4e544047-e412-4404-b933-ec89df93b62b",
   "metadata": {},
   "source": [
    "#### To resume work we need to set project and experiment"
   ]
  },
  {
   "cell_type": "code",
   "execution_count": 21,
   "id": "6e3bfafb-875f-49b5-a4e4-c2b4c20c4b30",
   "metadata": {},
   "outputs": [
    {
     "name": "stdout",
     "output_type": "stream",
     "text": [
      "Using existing project IRIS CLASSIFICATION - (ID: ['5f891f77-4950-4069-be50-0cfcdf56cefe'])\n",
      "Using existing experiment RandomForestModel - (ID: ['2b392d76-d017-4016-b53b-19ad17ddd8c9'])\n"
     ]
    }
   ],
   "source": [
    "tree.set_project(name = \"IRIS CLASSIFICATION\")\n",
    "tree.set_experiment(name = \"RandomForestModel\")"
   ]
  },
  {
   "cell_type": "markdown",
   "id": "3b59a53a-a358-4866-baf4-a4045ee606f2",
   "metadata": {},
   "source": [
    "#### >>\n",
    "```1. start new run -> log hyperparamters -> log metrics -> view experiments (resume work)```<br>\n",
    "```2. view experiments/run (if only visualization needed - for PM/TL)```"
   ]
  },
  {
   "cell_type": "markdown",
   "id": "8285fbde-7748-409c-bd3d-513135e2fc82",
   "metadata": {},
   "source": [
    "#### Additional notes:\n",
    "-> It is possible to add tensorboard links(any external links) to artifacts to view epoch level metrics or finegraded analysis on training<br>\n",
    "-> It is possible to  add images such as plots to artifacts to view results of experiments (like training loss /accruacy curve/ AUC ROC etc)<br>\n",
    "-> tree.delete(`<name of node>`,`<type of node>`) to remove logged info from tree. (type - experiment, run, metric, hyperparamter, prompt, artifact)"
   ]
  },
  {
   "cell_type": "code",
   "execution_count": null,
   "id": "4599958d-fc24-4734-b4b0-dbbec284c05e",
   "metadata": {},
   "outputs": [],
   "source": []
  }
 ],
 "metadata": {
  "kernelspec": {
   "display_name": "Python 3 (ipykernel)",
   "language": "python",
   "name": "python3"
  },
  "language_info": {
   "codemirror_mode": {
    "name": "ipython",
    "version": 3
   },
   "file_extension": ".py",
   "mimetype": "text/x-python",
   "name": "python",
   "nbconvert_exporter": "python",
   "pygments_lexer": "ipython3",
   "version": "3.9.13"
  }
 },
 "nbformat": 4,
 "nbformat_minor": 5
}
